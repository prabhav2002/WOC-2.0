{
 "cells": [
  {
   "cell_type": "code",
   "execution_count": 1,
   "metadata": {},
   "outputs": [],
   "source": [
    "from csv import reader\n",
    "#google_play_store\n",
    "open_file = open('googleplaystore.csv',encoding=\"utf8\")\n",
    "#encoding because of unicode-decode error\n",
    "read = reader(open_file)\n",
    "android = list(read)\n",
    "android_title = android[0]\n",
    "android = android[1:]"
   ]
  },
  {
   "cell_type": "code",
   "execution_count": 2,
   "metadata": {},
   "outputs": [
    {
     "name": "stdout",
     "output_type": "stream",
     "text": [
      "['App', 'Category', 'Rating', 'Reviews', 'Size', 'Installs', 'Type', 'Price', 'Content Rating', 'Genres', 'Last Updated', 'Current Ver', 'Android Ver']\n",
      "\n",
      "\n",
      "['Photo Editor & Candy Camera & Grid & ScrapBook', 'ART_AND_DESIGN', '4.1', '159', '19M', '10,000+', 'Free', '0', 'Everyone', 'Art & Design', 'January 7, 2018', '1.0.0', '4.0.3 and up']\n",
      "\n",
      "\n",
      "['Coloring book moana', 'ART_AND_DESIGN', '3.9', '967', '14M', '500,000+', 'Free', '0', 'Everyone', 'Art & Design;Pretend Play', 'January 15, 2018', '2.0.0', '4.0.3 and up']\n",
      "\n",
      "\n",
      "['U Launcher Lite – FREE Live Cool Themes, Hide Apps', 'ART_AND_DESIGN', '4.7', '87510', '8.7M', '5,000,000+', 'Free', '0', 'Everyone', 'Art & Design', 'August 1, 2018', '1.2.4', '4.0.3 and up']\n",
      "\n",
      "\n",
      "['Sketch - Draw & Paint', 'ART_AND_DESIGN', '4.5', '215644', '25M', '50,000,000+', 'Free', '0', 'Teen', 'Art & Design', 'June 8, 2018', 'Varies with device', '4.2 and up']\n",
      "\n",
      "\n",
      "['Pixel Draw - Number Art Coloring Book', 'ART_AND_DESIGN', '4.3', '967', '2.8M', '100,000+', 'Free', '0', 'Everyone', 'Art & Design;Creativity', 'June 20, 2018', '1.1', '4.4 and up']\n",
      "\n",
      "\n",
      "['Paper flowers instructions', 'ART_AND_DESIGN', '4.4', '167', '5.6M', '50,000+', 'Free', '0', 'Everyone', 'Art & Design', 'March 26, 2017', '1.0', '2.3 and up']\n",
      "\n",
      "\n",
      "['Smoke Effect Photo Maker - Smoke Editor', 'ART_AND_DESIGN', '3.8', '178', '19M', '50,000+', 'Free', '0', 'Everyone', 'Art & Design', 'April 26, 2018', '1.1', '4.0.3 and up']\n",
      "\n",
      "\n",
      "['Infinite Painter', 'ART_AND_DESIGN', '4.1', '36815', '29M', '1,000,000+', 'Free', '0', 'Everyone', 'Art & Design', 'June 14, 2018', '6.1.61.1', '4.2 and up']\n",
      "\n",
      "\n",
      "['Garden Coloring Book', 'ART_AND_DESIGN', '4.4', '13791', '33M', '1,000,000+', 'Free', '0', 'Everyone', 'Art & Design', 'September 20, 2017', '2.9.2', '3.0 and up']\n",
      "\n",
      "\n",
      "['Kids Paint Free - Drawing Fun', 'ART_AND_DESIGN', '4.7', '121', '3.1M', '10,000+', 'Free', '0', 'Everyone', 'Art & Design;Creativity', 'July 3, 2018', '2.8', '4.0.3 and up']\n",
      "\n",
      "\n",
      "['Text on Photo - Fonteee', 'ART_AND_DESIGN', '4.4', '13880', '28M', '1,000,000+', 'Free', '0', 'Everyone', 'Art & Design', 'October 27, 2017', '1.0.4', '4.1 and up']\n",
      "\n",
      "\n",
      "['Name Art Photo Editor - Focus n Filters', 'ART_AND_DESIGN', '4.4', '8788', '12M', '1,000,000+', 'Free', '0', 'Everyone', 'Art & Design', 'July 31, 2018', '1.0.15', '4.0 and up']\n",
      "\n",
      "\n",
      "['Tattoo Name On My Photo Editor', 'ART_AND_DESIGN', '4.2', '44829', '20M', '10,000,000+', 'Free', '0', 'Teen', 'Art & Design', 'April 2, 2018', '3.8', '4.1 and up']\n",
      "\n",
      "\n",
      "['Mandala Coloring Book', 'ART_AND_DESIGN', '4.6', '4326', '21M', '100,000+', 'Free', '0', 'Everyone', 'Art & Design', 'June 26, 2018', '1.0.4', '4.4 and up']\n",
      "\n",
      "\n",
      "['3D Color Pixel by Number - Sandbox Art Coloring', 'ART_AND_DESIGN', '4.4', '1518', '37M', '100,000+', 'Free', '0', 'Everyone', 'Art & Design', 'August 3, 2018', '1.2.3', '2.3 and up']\n",
      "\n",
      "\n",
      "['Learn To Draw Kawaii Characters', 'ART_AND_DESIGN', '3.2', '55', '2.7M', '5,000+', 'Free', '0', 'Everyone', 'Art & Design', 'June 6, 2018', 'NaN', '4.2 and up']\n",
      "\n",
      "\n",
      "['Photo Designer - Write your name with shapes', 'ART_AND_DESIGN', '4.7', '3632', '5.5M', '500,000+', 'Free', '0', 'Everyone', 'Art & Design', 'July 31, 2018', '3.1', '4.1 and up']\n",
      "\n",
      "\n",
      "['350 Diy Room Decor Ideas', 'ART_AND_DESIGN', '4.5', '27', '17M', '10,000+', 'Free', '0', 'Everyone', 'Art & Design', 'November 7, 2017', '1.0', '2.3 and up']\n",
      "\n",
      "\n",
      "['FlipaClip - Cartoon animation', 'ART_AND_DESIGN', '4.3', '194216', '39M', '5,000,000+', 'Free', '0', 'Everyone', 'Art & Design', 'August 3, 2018', '2.2.5', '4.0.3 and up']\n",
      "\n",
      "\n",
      "['ibis Paint X', 'ART_AND_DESIGN', '4.6', '224399', '31M', '10,000,000+', 'Free', '0', 'Everyone', 'Art & Design', 'July 30, 2018', '5.5.4', '4.1 and up']\n",
      "\n",
      "\n",
      "['Logo Maker - Small Business', 'ART_AND_DESIGN', '4.0', '450', '14M', '100,000+', 'Free', '0', 'Everyone', 'Art & Design', 'April 20, 2018', '4.0', '4.1 and up']\n",
      "\n",
      "\n",
      "[\"Boys Photo Editor - Six Pack & Men's Suit\", 'ART_AND_DESIGN', '4.1', '654', '12M', '100,000+', 'Free', '0', 'Everyone', 'Art & Design', 'March 20, 2018', '1.1', '4.0.3 and up']\n",
      "\n",
      "\n",
      "['Superheroes Wallpapers | 4K Backgrounds', 'ART_AND_DESIGN', '4.7', '7699', '4.2M', '500,000+', 'Free', '0', 'Everyone 10+', 'Art & Design', 'July 12, 2018', '2.2.6.2', '4.0.3 and up']\n",
      "\n",
      "\n",
      "['Mcqueen Coloring pages', 'ART_AND_DESIGN', 'NaN', '61', '7.0M', '100,000+', 'Free', '0', 'Everyone', 'Art & Design;Action & Adventure', 'March 7, 2018', '1.0.0', '4.1 and up']\n",
      "\n",
      "\n",
      "['HD Mickey Minnie Wallpapers', 'ART_AND_DESIGN', '4.7', '118', '23M', '50,000+', 'Free', '0', 'Everyone', 'Art & Design', 'July 7, 2018', '1.1.3', '4.1 and up']\n",
      "\n",
      "\n",
      "Number of ROWS:  10841\n",
      "Number of COLUMNS:  13\n"
     ]
    }
   ],
   "source": [
    "#exploring the data of any dataset and finding the number of rows and columns\n",
    "def exploringData(data, start, end, rowsandcolumns=False):\n",
    "    data_slice = data[start:end]    \n",
    "    for row in data_slice:\n",
    "        print(row)\n",
    "        print('\\n') # adds a new (empty) line between rows\n",
    "        \n",
    "    if rowsandcolumns:\n",
    "        print('Number of ROWS: ', len(data))\n",
    "        print('Number of COLUMNS: ', len(data[0]))\n",
    "\n",
    "print(android_title)\n",
    "print('\\n')\n",
    "exploringData(android, 0, 25, True)"
   ]
  },
  {
   "cell_type": "code",
   "execution_count": 3,
   "metadata": {},
   "outputs": [
    {
     "name": "stdout",
     "output_type": "stream",
     "text": [
      "Number of DUPLICATE apps: 1181\n",
      "\n",
      "\n",
      "\n",
      "\n",
      "Examples of duplicate apps:\n",
      "        ['Quick PDF Scanner + OCR FREE', 'Box', 'Google My Business', 'ZOOM Cloud Meetings', 'join.me - Simple Meetings', 'Box', 'Zenefits', 'Google Ads', 'Google My Business', 'Slack', 'FreshBooks Classic', 'Insightly CRM', 'QuickBooks Accounting: Invoicing & Expenses', 'HipChat - Chat Built for Teams', 'Xero Accounting Software', 'MailChimp - Email, Marketing Automation', 'Crew - Free Messaging and Scheduling', 'Asana: organize team projects', 'Google Analytics', 'AdWords Express', 'Accounting App - Zoho Books', 'Invoice & Time Tracking - Zoho', 'join.me - Simple Meetings', 'Invoice 2go — Professional Invoices and Estimates', 'SignEasy | Sign and Fill PDF and other Documents', 'Quick PDF Scanner + OCR FREE', 'Genius Scan - PDF Scanner', 'Tiny Scanner - PDF Scanner App', 'Fast Scanner : Free PDF Scan', 'Mobile Doc Scanner (MDScan) Lite', 'TurboScan: scan documents and receipts in PDF', 'Tiny Scanner Pro: PDF Doc Scan', 'Docs To Go™ Free Office Suite', 'OfficeSuite : Free Office + PDF Editor', 'Slack', 'QuickBooks Accounting: Invoicing & Expenses', 'WhatsApp Messenger', 'Messenger – Text and Video Chat for Free', 'imo free video calls and chat', 'Viber Messenger', 'Hangouts', 'WeChat', 'Telegram', 'Who', 'Google Voice', 'Android Messages', 'Firefox Focus: The privacy browser', 'Google Allo', 'Google Chrome: Fast & Secure', 'Firefox Browser fast & private']\n"
     ]
    }
   ],
   "source": [
    "#deleting duplicate apps\n",
    "duplicate = []\n",
    "identical = []\n",
    "\n",
    "for app in android:\n",
    "    name = app[0]\n",
    "    if name in identical:\n",
    "        duplicate.append(name)\n",
    "    else:\n",
    "        identical.append(name)\n",
    "    \n",
    "print('Number of DUPLICATE apps:', len(duplicate))\n",
    "print(\"\\n\\n\\n\")\n",
    "print('Examples of duplicate apps:\\n       ', duplicate[:50])\n",
    "#50 DUPLICATE APPS AS AN EXAMPLE"
   ]
  },
  {
   "cell_type": "code",
   "execution_count": 4,
   "metadata": {},
   "outputs": [],
   "source": [
    "reviews = {}\n",
    "\n",
    "for app in android:\n",
    "    name = app[0]\n",
    "    n = float(app[2])\n",
    "    \n",
    "    if name in reviews and reviews[name] < n:\n",
    "        reviews[name] = n\n",
    "        \n",
    "    elif name not in reviews:\n",
    "        reviews[name] = n"
   ]
  },
  {
   "cell_type": "code",
   "execution_count": 5,
   "metadata": {
    "scrolled": true
   },
   "outputs": [
    {
     "name": "stdout",
     "output_type": "stream",
     "text": [
      "Expected length: 9660\n",
      "Actual length: 9660\n"
     ]
    }
   ],
   "source": [
    "print('Expected length:', len(android) - len(duplicate))\n",
    "print('Actual length:', len(reviews))"
   ]
  },
  {
   "cell_type": "code",
   "execution_count": 6,
   "metadata": {},
   "outputs": [],
   "source": [
    "android1 = []\n",
    "alreadyAdded = []\n",
    "\n",
    "for app in android:\n",
    "    name = app[0]\n",
    "    n = float(app[2])\n",
    "    \n",
    "    if (reviews[name] == n) and (name not in alreadyAdded):\n",
    "        android1.append(app)\n",
    "        alreadyAdded.append(name)"
   ]
  },
  {
   "cell_type": "code",
   "execution_count": 7,
   "metadata": {},
   "outputs": [
    {
     "name": "stdout",
     "output_type": "stream",
     "text": [
      "Number of ROWS:  8197\n",
      "Number of COLUMNS:  13\n"
     ]
    }
   ],
   "source": [
    "#sortlisted data after deleting apps with the help of reviews\n",
    "exploringData(android1, 0, 0, True)"
   ]
  },
  {
   "cell_type": "code",
   "execution_count": 8,
   "metadata": {},
   "outputs": [],
   "source": [
    "#defining function to remove non-english apps\n",
    "def isenglish(string):\n",
    "    non_ascii = 0\n",
    "    \n",
    "    for char in string:\n",
    "        if ord(char) > 127:\n",
    "            non_ascii += 1\n",
    "    \n",
    "    if non_ascii > 3:\n",
    "        return False\n",
    "    else:\n",
    "        return True"
   ]
  },
  {
   "cell_type": "code",
   "execution_count": 9,
   "metadata": {},
   "outputs": [
    {
     "name": "stdout",
     "output_type": "stream",
     "text": [
      "Number of ROWS:  8167\n",
      "Number of COLUMNS:  13\n"
     ]
    }
   ],
   "source": [
    "#removing non-english apps\n",
    "androidEng = []\n",
    "\n",
    "\n",
    "for app in android1:\n",
    "    name = app[0]\n",
    "    if isenglish(name):\n",
    "        androidEng.append(app)\n",
    "        \n",
    "\n",
    "exploringData(androidEng, 0, 0, True)\n",
    "\n"
   ]
  },
  {
   "cell_type": "code",
   "execution_count": 11,
   "metadata": {},
   "outputs": [
    {
     "name": "stdout",
     "output_type": "stream",
     "text": [
      "Number of ROWS:  7565\n",
      "Number of COLUMNS:  13\n"
     ]
    }
   ],
   "source": [
    "#free apps,price=\"0\",isolating free apps\n",
    "android_final_isolatefree = []\n",
    "\n",
    "for app in androidEng:\n",
    "    price = app[7]\n",
    "    if price == '0':\n",
    "        android_final_isolatefree.append(app)\n",
    "        \n",
    "\n",
    "        \n",
    "exploringData(android_final_isolatefree, 0, 0, True)\n",
    "\n"
   ]
  },
  {
   "cell_type": "code",
   "execution_count": 12,
   "metadata": {},
   "outputs": [
    {
     "name": "stdout",
     "output_type": "stream",
     "text": [
      "Number of ROWS:  602\n",
      "Number of COLUMNS:  13\n"
     ]
    }
   ],
   "source": [
    "#free apps,price=\"0\",removing free apps\n",
    "android_final_removefree = []\n",
    "\n",
    "for app in androidEng:\n",
    "    price = app[7]\n",
    "    if price != '0':\n",
    "        android_final_removefree.append(app)\n",
    "        \n",
    "\n",
    "        \n",
    "exploringData(android_final_removefree, 0, 0, True)"
   ]
  },
  {
   "cell_type": "code",
   "execution_count": null,
   "metadata": {},
   "outputs": [],
   "source": []
  }
 ],
 "metadata": {
  "celltoolbar": "Slideshow",
  "kernelspec": {
   "display_name": "Python 3",
   "language": "python",
   "name": "python3"
  },
  "language_info": {
   "codemirror_mode": {
    "name": "ipython",
    "version": 3
   },
   "file_extension": ".py",
   "mimetype": "text/x-python",
   "name": "python",
   "nbconvert_exporter": "python",
   "pygments_lexer": "ipython3",
   "version": "3.7.4"
  }
 },
 "nbformat": 4,
 "nbformat_minor": 2
}

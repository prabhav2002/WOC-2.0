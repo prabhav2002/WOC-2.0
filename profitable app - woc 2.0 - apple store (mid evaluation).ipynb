{
 "cells": [
  {
   "cell_type": "code",
   "execution_count": 21,
   "metadata": {},
   "outputs": [],
   "source": [
    "from csv import reader\n",
    "#apple_store\n",
    "open_file = open('AppleStore.csv',encoding=\"utf8\")\n",
    "#encoding because of unicode-decode error\n",
    "read = reader(open_file)\n",
    "ios = list(read)\n",
    "ios_title = ios[0]\n",
    "ios = ios[1:]\n"
   ]
  },
  {
   "cell_type": "code",
   "execution_count": 22,
   "metadata": {},
   "outputs": [
    {
     "name": "stdout",
     "output_type": "stream",
     "text": [
      "['id', 'track_name', 'size_bytes', 'currency', 'price', 'rating_count_tot', 'rating_count_ver', 'user_rating', 'user_rating_ver', 'ver', 'cont_rating', 'prime_genre', 'sup_devices.num', 'ipadSc_urls.num', 'lang.num', 'vpp_lic']\n",
      "\n",
      "\n",
      "['284882215', 'Facebook', '389879808', 'USD', '0', '2974676', '212', '3.5', '3.5', '95', '4+', 'Social Networking', '37', '1', '29', '1']\n",
      "\n",
      "\n",
      "['389801252', 'Instagram', '113954816', 'USD', '0', '2161558', '1289', '4.5', '4', '10.23', '12+', 'Photo & Video', '37', '0', '29', '1']\n",
      "\n",
      "\n",
      "['529479190', 'Clash of Clans', '116476928', 'USD', '0', '2130805', '579', '4.5', '4.5', '9.24.12', '9+', 'Games', '38', '5', '18', '1']\n",
      "\n",
      "\n",
      "['420009108', 'Temple Run', '65921024', 'USD', '0', '1724546', '3842', '4.5', '4', '1.6.2', '9+', 'Games', '40', '5', '1', '1']\n",
      "\n",
      "\n",
      "['284035177', 'Pandora - Music & Radio', '130242560', 'USD', '0', '1126879', '3594', '4', '4.5', '8.4.1', '12+', 'Music', '37', '4', '1', '1']\n",
      "\n",
      "\n",
      "['429047995', 'Pinterest', '74778624', 'USD', '0', '1061624', '1814', '4.5', '4', '6.26', '12+', 'Social Networking', '37', '5', '27', '1']\n",
      "\n",
      "\n",
      "['282935706', 'Bible', '92774400', 'USD', '0', '985920', '5320', '4.5', '5', '7.5.1', '4+', 'Reference', '37', '5', '45', '1']\n",
      "\n",
      "\n",
      "['553834731', 'Candy Crush Saga', '222846976', 'USD', '0', '961794', '2453', '4.5', '4.5', '1.101.0', '4+', 'Games', '43', '5', '24', '1']\n",
      "\n",
      "\n",
      "['324684580', 'Spotify Music', '132510720', 'USD', '0', '878563', '8253', '4.5', '4.5', '8.4.3', '12+', 'Music', '37', '5', '18', '1']\n",
      "\n",
      "\n",
      "['343200656', 'Angry Birds', '175966208', 'USD', '0', '824451', '107', '4.5', '3', '7.4.0', '4+', 'Games', '38', '0', '10', '1']\n",
      "\n",
      "\n",
      "['512939461', 'Subway Surfers', '156038144', 'USD', '0', '706110', '97', '4.5', '4', '1.72.1', '9+', 'Games', '38', '5', '1', '1']\n",
      "\n",
      "\n",
      "['362949845', 'Fruit Ninja Classic', '104590336', 'USD', '1.99', '698516', '132', '4.5', '4', '2.3.9', '4+', 'Games', '38', '5', '13', '1']\n",
      "\n",
      "\n",
      "['359917414', 'Solitaire', '101943296', 'USD', '0', '679055', '9673', '4.5', '4.5', '4.11.2', '4+', 'Games', '38', '4', '11', '1']\n",
      "\n",
      "\n",
      "['469369175', 'CSR Racing', '524803072', 'USD', '0', '677247', '2029', '4.5', '4.5', '4.0.1', '4+', 'Games', '37', '5', '10', '1']\n",
      "\n",
      "\n",
      "['924373886', 'Crossy Road - Endless Arcade Hopper', '165471232', 'USD', '0', '669079', '1087', '4.5', '4.5', '1.5.4', '9+', 'Games', '38', '5', '13', '1']\n",
      "\n",
      "\n",
      "['575658129', 'Injustice: Gods Among Us', '1829599232', 'USD', '0', '612532', '410', '4.5', '4.5', '2.15.1', '12+', 'Games', '39', '5', '13', '1']\n",
      "\n",
      "\n",
      "['506627515', 'Hay Day', '113641472', 'USD', '0', '567344', '4887', '4.5', '4.5', '1.33.134', '4+', 'Games', '38', '5', '18', '1']\n",
      "\n",
      "\n",
      "['500116670', 'Clear Vision (17+)', '37879808', 'USD', '0.99', '541693', '69225', '4.5', '4.5', '1.1.3', '17+', 'Games', '43', '5', '1', '1']\n",
      "\n",
      "\n",
      "['479516143', 'Minecraft: Pocket Edition', '147787776', 'USD', '6.99', '522012', '1148', '4.5', '4.5', '1.1', '9+', 'Games', '37', '1', '11', '1']\n",
      "\n",
      "\n",
      "['293778748', 'PAC-MAN', '100849664', 'USD', '0', '508808', '99', '3', '4.5', '6.3.5', '4+', 'Games', '38', '5', '10', '1']\n",
      "\n",
      "\n",
      "['341232718', 'Calorie Counter & Diet Tracker by MyFitnessPal', '152700928', 'USD', '0', '507706', '181', '4.5', '4.5', '7.16', '4+', 'Health & Fitness', '37', '5', '19', '1']\n",
      "\n",
      "\n",
      "['440045374', 'DragonVale', '153074688', 'USD', '0', '503230', '282', '4.5', '4.5', '3.15.0', '4+', 'Games', '37', '5', '10', '1']\n",
      "\n",
      "\n",
      "['295646461', 'The Weather Channel: Forecast, Radar & Alerts', '199734272', 'USD', '0', '495626', '5893', '3.5', '4.5', '8.11', '4+', 'Weather', '37', '0', '33', '1']\n",
      "\n",
      "\n",
      "['487119327', 'Head Soccer', '121319424', 'USD', '0', '481564', '8518', '5', '5', '5.4.1', '4+', 'Games', '40', '4', '11', '1']\n",
      "\n",
      "\n",
      "['284815942', 'Google – Search made just for mobile', '179979264', 'USD', '0', '479440', '203', '3.5', '4', '27', '17+', 'Utilities', '37', '4', '33', '1']\n",
      "\n",
      "\n",
      "Number of ROWS:  7197\n",
      "Number of COLUMNS:  16\n"
     ]
    }
   ],
   "source": [
    "#exploring the data of any dataset and finding the number of rows and columns\n",
    "def exploringData(data, start, end, rowsandcolumns=False):\n",
    "    data_slice = data[start:end]    \n",
    "    for row in data_slice:\n",
    "        print(row)\n",
    "        print('\\n') # adds a new (empty) line between rows\n",
    "        \n",
    "    if rowsandcolumns:\n",
    "        print('Number of ROWS: ', len(data))\n",
    "        print('Number of COLUMNS: ', len(data[0]))\n",
    "\n",
    "print(ios_title)\n",
    "print('\\n')\n",
    "exploringData(ios, 0, 25, True)"
   ]
  },
  {
   "cell_type": "code",
   "execution_count": 23,
   "metadata": {},
   "outputs": [
    {
     "name": "stdout",
     "output_type": "stream",
     "text": [
      "Number of DUPLICATE apps: 2\n",
      "\n",
      "\n",
      "Examples of duplicate apps:\n",
      "        ['Mannequin Challenge', 'VR Roller Coaster']\n"
     ]
    }
   ],
   "source": [
    "#deleting duplicate apps(by same name)\n",
    "duplicate = []\n",
    "identical = []\n",
    "\n",
    "for app in ios:\n",
    "    name = app[1]\n",
    "    if name in identical:\n",
    "        duplicate.append(name)\n",
    "    else:\n",
    "        identical.append(name)\n",
    "    \n",
    "print('Number of DUPLICATE apps:', len(duplicate))\n",
    "print(\"\\n\")\n",
    "print('Examples of duplicate apps:\\n       ', duplicate[:50])\n",
    "#50 DUPLICATE APPS AS AN EXAMPLE"
   ]
  },
  {
   "cell_type": "code",
   "execution_count": 24,
   "metadata": {},
   "outputs": [],
   "source": [
    "reviews = {}\n",
    "\n",
    "for app in ios:\n",
    "    name = app[1]\n",
    "    n = float(app[7])\n",
    "    \n",
    "    if name in reviews and reviews[name] < n:\n",
    "        reviews[name] = n\n",
    "        \n",
    "    elif name not in reviews:\n",
    "        reviews[name] = n"
   ]
  },
  {
   "cell_type": "code",
   "execution_count": 25,
   "metadata": {},
   "outputs": [
    {
     "name": "stdout",
     "output_type": "stream",
     "text": [
      "Expected length: 7195\n",
      "Actual length: 7195\n"
     ]
    }
   ],
   "source": [
    "print('Expected length:', len(ios) - len(duplicate))\n",
    "print('Actual length:', len(reviews))"
   ]
  },
  {
   "cell_type": "code",
   "execution_count": 26,
   "metadata": {},
   "outputs": [],
   "source": [
    "ios1 = []\n",
    "alreadyAdded = []\n",
    "\n",
    "for app in ios:\n",
    "    name = app[1]\n",
    "    n = float(app[7])\n",
    "    \n",
    "    if (reviews[name] == n) and (name not in alreadyAdded):\n",
    "        ios1.append(app)\n",
    "        alreadyAdded.append(name)"
   ]
  },
  {
   "cell_type": "code",
   "execution_count": 27,
   "metadata": {},
   "outputs": [
    {
     "name": "stdout",
     "output_type": "stream",
     "text": [
      "Number of ROWS:  7195\n",
      "Number of COLUMNS:  16\n"
     ]
    }
   ],
   "source": [
    "#sortlisted data after deleting apps with the help of reviews\n",
    "exploringData(ios1, 0, 0, True)"
   ]
  },
  {
   "cell_type": "code",
   "execution_count": 28,
   "metadata": {},
   "outputs": [],
   "source": [
    "#defining function to remove non-english apps\n",
    "def isenglish(string):\n",
    "    non_ascii = 0\n",
    "    \n",
    "    for char in string:\n",
    "        if ord(char) > 127:\n",
    "            non_ascii += 1\n",
    "    \n",
    "    if non_ascii > 3:\n",
    "        return False\n",
    "    else:\n",
    "        return True"
   ]
  },
  {
   "cell_type": "code",
   "execution_count": 29,
   "metadata": {},
   "outputs": [
    {
     "name": "stdout",
     "output_type": "stream",
     "text": [
      "Number of ROWS:  6181\n",
      "Number of COLUMNS:  16\n"
     ]
    }
   ],
   "source": [
    "#removing non-english apps\n",
    "iosEng = []\n",
    "\n",
    "\n",
    "for app in ios1:\n",
    "    name = app[1]\n",
    "    if isenglish(name):\n",
    "        iosEng.append(app)\n",
    "        \n",
    "\n",
    "exploringData(iosEng, 0, 0, True)"
   ]
  },
  {
   "cell_type": "code",
   "execution_count": 30,
   "metadata": {},
   "outputs": [
    {
     "name": "stdout",
     "output_type": "stream",
     "text": [
      "Number of ROWS:  3220\n",
      "Number of COLUMNS:  16\n"
     ]
    }
   ],
   "source": [
    "#free apps,price=\"0\",isolating free apps\n",
    "ios_final_isolatefree = []\n",
    "\n",
    "for app in iosEng:\n",
    "    price = app[4]\n",
    "    if price == '0':\n",
    "        ios_final_isolatefree.append(app)\n",
    "        \n",
    "\n",
    "        \n",
    "exploringData(ios_final_isolatefree, 0, 0, True)"
   ]
  },
  {
   "cell_type": "code",
   "execution_count": 31,
   "metadata": {},
   "outputs": [
    {
     "name": "stdout",
     "output_type": "stream",
     "text": [
      "Number of ROWS:  2961\n",
      "Number of COLUMNS:  16\n"
     ]
    }
   ],
   "source": [
    "#free apps,price=\"0\",removing free apps\n",
    "ios_final_removefree = []\n",
    "\n",
    "for app in iosEng:\n",
    "    price = app[4]\n",
    "    if price != '0':\n",
    "        ios_final_removefree.append(app)\n",
    "        \n",
    "\n",
    "        \n",
    "exploringData(ios_final_removefree, 0, 0, True)"
   ]
  },
  {
   "cell_type": "code",
   "execution_count": 35,
   "metadata": {},
   "outputs": [],
   "source": [
    "def freqTable(dataset, index):\n",
    "    freq = {}\n",
    "    total = 0\n",
    "    \n",
    "    for row in dataset:\n",
    "        total += 1\n",
    "        value = row[index]\n",
    "        if value in freq:\n",
    "            freq[value] += 1\n",
    "        else:\n",
    "            freq[value] = 1\n",
    "    \n",
    "    Per = {}\n",
    "    for key in freq:\n",
    "        per = (freq[key] / total) * 100\n",
    "        Per[key] = per \n",
    "    \n",
    "    return Per\n",
    "\n",
    "\n",
    "def displayTable(dataset, index):\n",
    "    freq = freqTable(dataset, index)\n",
    "    freqDisplay = []\n",
    "    for key in freq:\n",
    "        key_tuple = (freq[key], key)\n",
    "        freqDisplay.append(key_tuple)\n",
    "        \n",
    "    table_sorted = sorted(freqDisplay, reverse = True)#for descending (reverse=TRUE)\n",
    "    for i in table_sorted:\n",
    "        print(i[1], ':', i[0])"
   ]
  },
  {
   "cell_type": "code",
   "execution_count": 36,
   "metadata": {},
   "outputs": [
    {
     "name": "stdout",
     "output_type": "stream",
     "text": [
      "Games : 58.13664596273293\n",
      "Entertainment : 7.888198757763975\n",
      "Photo & Video : 4.968944099378882\n",
      "Education : 3.6645962732919255\n",
      "Social Networking : 3.291925465838509\n",
      "Shopping : 2.608695652173913\n",
      "Utilities : 2.515527950310559\n",
      "Sports : 2.142857142857143\n",
      "Music : 2.049689440993789\n",
      "Health & Fitness : 2.018633540372671\n",
      "Productivity : 1.7391304347826086\n",
      "Lifestyle : 1.5838509316770186\n",
      "News : 1.3354037267080745\n",
      "Travel : 1.2422360248447204\n",
      "Finance : 1.1180124223602486\n",
      "Weather : 0.8695652173913043\n",
      "Food & Drink : 0.8074534161490683\n",
      "Reference : 0.5590062111801243\n",
      "Business : 0.5279503105590062\n",
      "Book : 0.43478260869565216\n",
      "Navigation : 0.18633540372670807\n",
      "Medical : 0.18633540372670807\n",
      "Catalogs : 0.12422360248447205\n"
     ]
    }
   ],
   "source": [
    "displayTable(ios_final_isolatefree, -5)\n",
    "#examining the frequency table for prime_genre column of the AppStore dataset(after isolating free apps on our sorted data set)"
   ]
  },
  {
   "cell_type": "code",
   "execution_count": 37,
   "metadata": {},
   "outputs": [
    {
     "name": "stdout",
     "output_type": "stream",
     "text": [
      "Games : 51.266464032421474\n",
      "Education : 9.861533265788584\n",
      "Entertainment : 6.5856129685916915\n",
      "Photo & Video : 6.112799729821006\n",
      "Utilities : 4.4579533941236065\n",
      "Productivity : 3.7825059101654848\n",
      "Health & Fitness : 3.3772374197906116\n",
      "Music : 2.397838568051334\n",
      "Lifestyle : 1.6210739614994936\n",
      "Weather : 1.3846673421141507\n",
      "Book : 1.3846673421141507\n",
      "Business : 1.21580547112462\n",
      "Sports : 1.1820330969267139\n",
      "Reference : 1.1820330969267139\n",
      "Navigation : 0.7429922323539345\n",
      "Travel : 0.6754474839581223\n",
      "Social Networking : 0.6754474839581223\n",
      "Food & Drink : 0.60790273556231\n",
      "Medical : 0.5065856129685917\n",
      "News : 0.4728132387706856\n",
      "Finance : 0.4390408645727794\n",
      "Shopping : 0.033772374197906116\n",
      "Catalogs : 0.033772374197906116\n"
     ]
    }
   ],
   "source": [
    "displayTable(ios_final_removefree, -5)\n",
    "#examining the frequency table for prime_genre column of the AppStore dataset(after removing free apps on our sorted data set)"
   ]
  },
  {
   "cell_type": "code",
   "execution_count": 38,
   "metadata": {},
   "outputs": [
    {
     "name": "stdout",
     "output_type": "stream",
     "text": [
      "Games : 53.66124774211477\n",
      "Entertainment : 7.433652910935113\n",
      "Education : 6.294289287203002\n",
      "Photo & Video : 4.849242740030569\n",
      "Utilities : 3.4458802278727245\n",
      "Health & Fitness : 2.501042100875365\n",
      "Productivity : 2.473252744198972\n",
      "Social Networking : 2.3204112824788106\n",
      "Lifestyle : 2.0008336807002918\n",
      "Music : 1.9174656106711132\n",
      "Shopping : 1.6951507572599693\n",
      "Sports : 1.5839933305543976\n",
      "Book : 1.5562039738780047\n",
      "Finance : 1.445046547172433\n",
      "Travel : 1.1254689453939142\n",
      "News : 1.0421008753647354\n",
      "Weather : 1.0004168403501459\n",
      "Reference : 0.8892594136445742\n",
      "Food & Drink : 0.8753647353063776\n",
      "Business : 0.7919966652771988\n",
      "Navigation : 0.6391552035570377\n",
      "Medical : 0.31957760177851885\n",
      "Catalogs : 0.1389467833819647\n"
     ]
    }
   ],
   "source": [
    "displayTable(ios, -5)\n",
    "#examining the frequency table for prime_genre column of the AppStore dataset(on unsorted our main data set)"
   ]
  }
 ],
 "metadata": {
  "kernelspec": {
   "display_name": "Python 3",
   "language": "python",
   "name": "python3"
  },
  "language_info": {
   "codemirror_mode": {
    "name": "ipython",
    "version": 3
   },
   "file_extension": ".py",
   "mimetype": "text/x-python",
   "name": "python",
   "nbconvert_exporter": "python",
   "pygments_lexer": "ipython3",
   "version": "3.7.4"
  }
 },
 "nbformat": 4,
 "nbformat_minor": 2
}

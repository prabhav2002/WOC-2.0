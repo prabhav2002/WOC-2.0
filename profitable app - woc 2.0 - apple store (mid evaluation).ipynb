{
 "cells": [
  {
   "cell_type": "code",
   "execution_count": 2,
   "metadata": {},
   "outputs": [],
   "source": [
    "from csv import reader\n",
    "#apple_store\n",
    "open_file = open('AppleStore.csv',encoding=\"utf8\")\n",
    "#encoding because of unicode-decode error\n",
    "read = reader(open_file)\n",
    "ios = list(read)\n",
    "ios_title = ios[0]\n",
    "ios = ios[1:]\n"
   ]
  },
  {
   "cell_type": "code",
   "execution_count": 3,
   "metadata": {},
   "outputs": [
    {
     "name": "stdout",
     "output_type": "stream",
     "text": [
      "['id', 'track_name', 'size_bytes', 'currency', 'price', 'rating_count_tot', 'rating_count_ver', 'user_rating', 'user_rating_ver', 'ver', 'cont_rating', 'prime_genre', 'sup_devices.num', 'ipadSc_urls.num', 'lang.num', 'vpp_lic']\n",
      "\n",
      "\n",
      "['284882215', 'Facebook', '389879808', 'USD', '0', '2974676', '212', '3.5', '3.5', '95', '4+', 'Social Networking', '37', '1', '29', '1']\n",
      "\n",
      "\n",
      "['389801252', 'Instagram', '113954816', 'USD', '0', '2161558', '1289', '4.5', '4', '10.23', '12+', 'Photo & Video', '37', '0', '29', '1']\n",
      "\n",
      "\n",
      "['529479190', 'Clash of Clans', '116476928', 'USD', '0', '2130805', '579', '4.5', '4.5', '9.24.12', '9+', 'Games', '38', '5', '18', '1']\n",
      "\n",
      "\n",
      "['420009108', 'Temple Run', '65921024', 'USD', '0', '1724546', '3842', '4.5', '4', '1.6.2', '9+', 'Games', '40', '5', '1', '1']\n",
      "\n",
      "\n",
      "['284035177', 'Pandora - Music & Radio', '130242560', 'USD', '0', '1126879', '3594', '4', '4.5', '8.4.1', '12+', 'Music', '37', '4', '1', '1']\n",
      "\n",
      "\n",
      "['429047995', 'Pinterest', '74778624', 'USD', '0', '1061624', '1814', '4.5', '4', '6.26', '12+', 'Social Networking', '37', '5', '27', '1']\n",
      "\n",
      "\n",
      "['282935706', 'Bible', '92774400', 'USD', '0', '985920', '5320', '4.5', '5', '7.5.1', '4+', 'Reference', '37', '5', '45', '1']\n",
      "\n",
      "\n",
      "['553834731', 'Candy Crush Saga', '222846976', 'USD', '0', '961794', '2453', '4.5', '4.5', '1.101.0', '4+', 'Games', '43', '5', '24', '1']\n",
      "\n",
      "\n",
      "['324684580', 'Spotify Music', '132510720', 'USD', '0', '878563', '8253', '4.5', '4.5', '8.4.3', '12+', 'Music', '37', '5', '18', '1']\n",
      "\n",
      "\n",
      "['343200656', 'Angry Birds', '175966208', 'USD', '0', '824451', '107', '4.5', '3', '7.4.0', '4+', 'Games', '38', '0', '10', '1']\n",
      "\n",
      "\n",
      "['512939461', 'Subway Surfers', '156038144', 'USD', '0', '706110', '97', '4.5', '4', '1.72.1', '9+', 'Games', '38', '5', '1', '1']\n",
      "\n",
      "\n",
      "['362949845', 'Fruit Ninja Classic', '104590336', 'USD', '1.99', '698516', '132', '4.5', '4', '2.3.9', '4+', 'Games', '38', '5', '13', '1']\n",
      "\n",
      "\n",
      "['359917414', 'Solitaire', '101943296', 'USD', '0', '679055', '9673', '4.5', '4.5', '4.11.2', '4+', 'Games', '38', '4', '11', '1']\n",
      "\n",
      "\n",
      "['469369175', 'CSR Racing', '524803072', 'USD', '0', '677247', '2029', '4.5', '4.5', '4.0.1', '4+', 'Games', '37', '5', '10', '1']\n",
      "\n",
      "\n",
      "['924373886', 'Crossy Road - Endless Arcade Hopper', '165471232', 'USD', '0', '669079', '1087', '4.5', '4.5', '1.5.4', '9+', 'Games', '38', '5', '13', '1']\n",
      "\n",
      "\n",
      "['575658129', 'Injustice: Gods Among Us', '1829599232', 'USD', '0', '612532', '410', '4.5', '4.5', '2.15.1', '12+', 'Games', '39', '5', '13', '1']\n",
      "\n",
      "\n",
      "['506627515', 'Hay Day', '113641472', 'USD', '0', '567344', '4887', '4.5', '4.5', '1.33.134', '4+', 'Games', '38', '5', '18', '1']\n",
      "\n",
      "\n",
      "['500116670', 'Clear Vision (17+)', '37879808', 'USD', '0.99', '541693', '69225', '4.5', '4.5', '1.1.3', '17+', 'Games', '43', '5', '1', '1']\n",
      "\n",
      "\n",
      "['479516143', 'Minecraft: Pocket Edition', '147787776', 'USD', '6.99', '522012', '1148', '4.5', '4.5', '1.1', '9+', 'Games', '37', '1', '11', '1']\n",
      "\n",
      "\n",
      "['293778748', 'PAC-MAN', '100849664', 'USD', '0', '508808', '99', '3', '4.5', '6.3.5', '4+', 'Games', '38', '5', '10', '1']\n",
      "\n",
      "\n",
      "['341232718', 'Calorie Counter & Diet Tracker by MyFitnessPal', '152700928', 'USD', '0', '507706', '181', '4.5', '4.5', '7.16', '4+', 'Health & Fitness', '37', '5', '19', '1']\n",
      "\n",
      "\n",
      "['440045374', 'DragonVale', '153074688', 'USD', '0', '503230', '282', '4.5', '4.5', '3.15.0', '4+', 'Games', '37', '5', '10', '1']\n",
      "\n",
      "\n",
      "['295646461', 'The Weather Channel: Forecast, Radar & Alerts', '199734272', 'USD', '0', '495626', '5893', '3.5', '4.5', '8.11', '4+', 'Weather', '37', '0', '33', '1']\n",
      "\n",
      "\n",
      "['487119327', 'Head Soccer', '121319424', 'USD', '0', '481564', '8518', '5', '5', '5.4.1', '4+', 'Games', '40', '4', '11', '1']\n",
      "\n",
      "\n",
      "['284815942', 'Google – Search made just for mobile', '179979264', 'USD', '0', '479440', '203', '3.5', '4', '27', '17+', 'Utilities', '37', '4', '33', '1']\n",
      "\n",
      "\n",
      "Number of ROWS:  7197\n",
      "Number of COLUMNS:  16\n"
     ]
    }
   ],
   "source": [
    "#exploring the data of any dataset and finding the number of rows and columns\n",
    "def exploringData(data, start, end, rowsandcolumns=False):\n",
    "    data_slice = data[start:end]    \n",
    "    for row in data_slice:\n",
    "        print(row)\n",
    "        print('\\n') # adds a new (empty) line between rows\n",
    "        \n",
    "    if rowsandcolumns:\n",
    "        print('Number of ROWS: ', len(data))\n",
    "        print('Number of COLUMNS: ', len(data[0]))\n",
    "\n",
    "print(ios_title)\n",
    "print('\\n')\n",
    "exploringData(ios, 0, 25, True)"
   ]
  },
  {
   "cell_type": "code",
   "execution_count": 4,
   "metadata": {},
   "outputs": [
    {
     "name": "stdout",
     "output_type": "stream",
     "text": [
      "Number of DUPLICATE apps: 2\n",
      "\n",
      "\n",
      "Examples of duplicate apps:\n",
      "        ['Mannequin Challenge', 'VR Roller Coaster']\n"
     ]
    }
   ],
   "source": [
    "#deleting duplicate apps(by same name)\n",
    "duplicate = []\n",
    "identical = []\n",
    "\n",
    "for app in ios:\n",
    "    name = app[1]\n",
    "    if name in identical:\n",
    "        duplicate.append(name)\n",
    "    else:\n",
    "        identical.append(name)\n",
    "    \n",
    "print('Number of DUPLICATE apps:', len(duplicate))\n",
    "print(\"\\n\")\n",
    "print('Examples of duplicate apps:\\n       ', duplicate[:50])\n",
    "#50 DUPLICATE APPS AS AN EXAMPLE"
   ]
  },
  {
   "cell_type": "code",
   "execution_count": 5,
   "metadata": {},
   "outputs": [],
   "source": [
    "reviews = {}\n",
    "\n",
    "for app in ios:\n",
    "    name = app[1]\n",
    "    n = float(app[7])\n",
    "    \n",
    "    if name in reviews and reviews[name] < n:\n",
    "        reviews[name] = n\n",
    "        \n",
    "    elif name not in reviews:\n",
    "        reviews[name] = n"
   ]
  },
  {
   "cell_type": "code",
   "execution_count": 6,
   "metadata": {},
   "outputs": [
    {
     "name": "stdout",
     "output_type": "stream",
     "text": [
      "Expected length: 7195\n",
      "Actual length: 7195\n"
     ]
    }
   ],
   "source": [
    "print('Expected length:', len(ios) - len(duplicate))\n",
    "print('Actual length:', len(reviews))"
   ]
  },
  {
   "cell_type": "code",
   "execution_count": 7,
   "metadata": {},
   "outputs": [],
   "source": [
    "ios1 = []\n",
    "alreadyAdded = []\n",
    "\n",
    "for app in ios:\n",
    "    name = app[1]\n",
    "    n = float(app[7])\n",
    "    \n",
    "    if (reviews[name] == n) and (name not in alreadyAdded):\n",
    "        ios1.append(app)\n",
    "        alreadyAdded.append(name)"
   ]
  },
  {
   "cell_type": "code",
   "execution_count": 8,
   "metadata": {},
   "outputs": [
    {
     "name": "stdout",
     "output_type": "stream",
     "text": [
      "Number of ROWS:  7195\n",
      "Number of COLUMNS:  16\n"
     ]
    }
   ],
   "source": [
    "#sortlisted data after deleting apps with the help of reviews\n",
    "exploringData(ios1, 0, 0, True)"
   ]
  },
  {
   "cell_type": "code",
   "execution_count": 9,
   "metadata": {},
   "outputs": [],
   "source": [
    "#defining function to remove non-english apps\n",
    "def isenglish(string):\n",
    "    non_ascii = 0\n",
    "    \n",
    "    for char in string:\n",
    "        if ord(char) > 127:\n",
    "            non_ascii += 1\n",
    "    \n",
    "    if non_ascii > 3:\n",
    "        return False\n",
    "    else:\n",
    "        return True"
   ]
  },
  {
   "cell_type": "code",
   "execution_count": 10,
   "metadata": {},
   "outputs": [
    {
     "name": "stdout",
     "output_type": "stream",
     "text": [
      "Number of ROWS:  6181\n",
      "Number of COLUMNS:  16\n"
     ]
    }
   ],
   "source": [
    "#removing non-english apps\n",
    "iosEng = []\n",
    "\n",
    "\n",
    "for app in ios1:\n",
    "    name = app[1]\n",
    "    if isenglish(name):\n",
    "        iosEng.append(app)\n",
    "        \n",
    "\n",
    "exploringData(iosEng, 0, 0, True)"
   ]
  },
  {
   "cell_type": "code",
   "execution_count": 11,
   "metadata": {},
   "outputs": [
    {
     "name": "stdout",
     "output_type": "stream",
     "text": [
      "Number of ROWS:  3220\n",
      "Number of COLUMNS:  16\n"
     ]
    }
   ],
   "source": [
    "#free apps,price=\"0\",isolating free apps\n",
    "ios_final = []\n",
    "\n",
    "for app in iosEng:\n",
    "    price = app[4]\n",
    "    if price == '0':\n",
    "        ios_final.append(app)\n",
    "        \n",
    "\n",
    "        \n",
    "exploringData(ios_final, 0, 0, True)"
   ]
  }
 ],
 "metadata": {
  "kernelspec": {
   "display_name": "Python 3",
   "language": "python",
   "name": "python3"
  },
  "language_info": {
   "codemirror_mode": {
    "name": "ipython",
    "version": 3
   },
   "file_extension": ".py",
   "mimetype": "text/x-python",
   "name": "python",
   "nbconvert_exporter": "python",
   "pygments_lexer": "ipython3",
   "version": "3.7.4"
  }
 },
 "nbformat": 4,
 "nbformat_minor": 2
}
